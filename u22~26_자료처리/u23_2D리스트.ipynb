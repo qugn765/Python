{
  "nbformat": 4,
  "nbformat_minor": 0,
  "metadata": {
    "colab": {
      "name": "u23_2D리스트.ipynb",
      "provenance": [],
      "collapsed_sections": []
    },
    "kernelspec": {
      "name": "python3",
      "display_name": "Python 3"
    },
    "language_info": {
      "name": "python"
    }
  },
  "cells": [
    {
      "cell_type": "code",
      "metadata": {
        "id": "WnnNkZ8G2nGi"
      },
      "source": [
        "# a[행인덱스][열인덱스]"
      ],
      "execution_count": 6,
      "outputs": []
    },
    {
      "cell_type": "code",
      "metadata": {
        "colab": {
          "base_uri": "https://localhost:8080/"
        },
        "id": "JZYkVd3J2w49",
        "outputId": "7af44905-ef62-4cb2-b3a7-558ff96d420a"
      },
      "source": [
        "import numpy as np\n",
        "b = np.arange(16).reshape(4,4)\n",
        "b"
      ],
      "execution_count": 3,
      "outputs": [
        {
          "output_type": "execute_result",
          "data": {
            "text/plain": [
              "array([[ 0,  1,  2,  3],\n",
              "       [ 4,  5,  6,  7],\n",
              "       [ 8,  9, 10, 11],\n",
              "       [12, 13, 14, 15]])"
            ]
          },
          "metadata": {
            "tags": []
          },
          "execution_count": 3
        }
      ]
    },
    {
      "cell_type": "code",
      "metadata": {
        "colab": {
          "base_uri": "https://localhost:8080/"
        },
        "id": "bYf51WE62zJa",
        "outputId": "71a6c601-e3c2-4144-eeed-db57d3e11dab"
      },
      "source": [
        "b[1,1]"
      ],
      "execution_count": 4,
      "outputs": [
        {
          "output_type": "execute_result",
          "data": {
            "text/plain": [
              "5"
            ]
          },
          "metadata": {
            "tags": []
          },
          "execution_count": 4
        }
      ]
    },
    {
      "cell_type": "code",
      "metadata": {
        "colab": {
          "base_uri": "https://localhost:8080/"
        },
        "id": "okpU21VS27gQ",
        "outputId": "f05f4b79-3401-4885-940c-a1395dd2252c"
      },
      "source": [
        "b[1:-1,1:-1]"
      ],
      "execution_count": 5,
      "outputs": [
        {
          "output_type": "execute_result",
          "data": {
            "text/plain": [
              "array([[ 5,  6],\n",
              "       [ 9, 10]])"
            ]
          },
          "metadata": {
            "tags": []
          },
          "execution_count": 5
        }
      ]
    },
    {
      "cell_type": "code",
      "metadata": {
        "id": "66elSDeO2-lw"
      },
      "source": [
        "# 톱니형 리스트\n",
        "a = [[10, 20],\n",
        "     [500, 600, 700],\n",
        "     [9],\n",
        "     [30, 40],\n",
        "     [8],\n",
        "     [800, 900, 1000]]"
      ],
      "execution_count": 7,
      "outputs": []
    },
    {
      "cell_type": "code",
      "metadata": {
        "colab": {
          "base_uri": "https://localhost:8080/"
        },
        "id": "OxxrL14q3ZEO",
        "outputId": "505becfe-f8d9-4d67-b247-4a9f8eb990e1"
      },
      "source": [
        "a=[]\n",
        "for i in range(4):\n",
        "  t=[]\n",
        "  for k in range(4):\n",
        "    t.append(i*4 + k)\n",
        "  a.append(t)\n",
        "\n",
        "a"
      ],
      "execution_count": 9,
      "outputs": [
        {
          "output_type": "execute_result",
          "data": {
            "text/plain": [
              "[[0, 1, 2, 3], [4, 5, 6, 7], [8, 9, 10, 11], [12, 13, 14, 15]]"
            ]
          },
          "metadata": {
            "tags": []
          },
          "execution_count": 9
        }
      ]
    },
    {
      "cell_type": "code",
      "metadata": {
        "id": "4lVnO48W3qLX"
      },
      "source": [
        ""
      ],
      "execution_count": null,
      "outputs": []
    }
  ]
}