{
  "nbformat": 4,
  "nbformat_minor": 0,
  "metadata": {
    "colab": {
      "name": "u34_클래스.ipynb",
      "provenance": [],
      "collapsed_sections": []
    },
    "kernelspec": {
      "name": "python3",
      "display_name": "Python 3"
    },
    "language_info": {
      "name": "python"
    }
  },
  "cells": [
    {
      "cell_type": "markdown",
      "metadata": {
        "id": "PqHGkeJQ7Abj"
      },
      "source": [
        "# Unit 34. 클래스(class)"
      ]
    },
    {
      "cell_type": "markdown",
      "metadata": {
        "id": "j_IbW4B07kxl"
      },
      "source": [
        "## 34.1 클래스와 메서드 만들기"
      ]
    },
    {
      "cell_type": "code",
      "metadata": {
        "id": "4bMDuaQm67UC"
      },
      "source": [
        "class Person:        # 클래스 이름은 대문자로 시작\n",
        "    def greeting(self):\n",
        "        print('Hello')"
      ],
      "execution_count": 2,
      "outputs": []
    },
    {
      "cell_type": "code",
      "metadata": {
        "id": "bl30IMk474NG"
      },
      "source": [
        "# 인스턴스를 만들어야 클래스를 사용할 수있다\n",
        "james = Person()\n",
        "maria = Person()"
      ],
      "execution_count": 5,
      "outputs": []
    },
    {
      "cell_type": "code",
      "metadata": {
        "colab": {
          "base_uri": "https://localhost:8080/"
        },
        "id": "glYKonLv8D9-",
        "outputId": "d2d95a95-ff94-48cb-97ea-9ade2bf43987"
      },
      "source": [
        "james.greeting()"
      ],
      "execution_count": 7,
      "outputs": [
        {
          "output_type": "stream",
          "text": [
            "Hello\n"
          ],
          "name": "stdout"
        }
      ]
    },
    {
      "cell_type": "code",
      "metadata": {
        "colab": {
          "base_uri": "https://localhost:8080/"
        },
        "id": "eI4TB6918N63",
        "outputId": "882314bc-a6fc-4af4-9bee-22e19b6f0c33"
      },
      "source": [
        "maria.greeting()"
      ],
      "execution_count": 8,
      "outputs": [
        {
          "output_type": "stream",
          "text": [
            "Hello\n"
          ],
          "name": "stdout"
        }
      ]
    },
    {
      "cell_type": "code",
      "metadata": {
        "colab": {
          "base_uri": "https://localhost:8080/"
        },
        "id": "OwryAxVp8VfH",
        "outputId": "020cd199-2274-4b87-ae2a-cf050ea03480"
      },
      "source": [
        "Person().greeting()"
      ],
      "execution_count": 9,
      "outputs": [
        {
          "output_type": "stream",
          "text": [
            "Hello\n"
          ],
          "name": "stdout"
        }
      ]
    },
    {
      "cell_type": "code",
      "metadata": {
        "colab": {
          "base_uri": "https://localhost:8080/"
        },
        "id": "MWVvQKre8fuG",
        "outputId": "ccb7e26b-e0e7-49ea-a6cc-5f4531611232"
      },
      "source": [
        "a = 10\n",
        "type(a)"
      ],
      "execution_count": 10,
      "outputs": [
        {
          "output_type": "execute_result",
          "data": {
            "text/plain": [
              "int"
            ]
          },
          "metadata": {
            "tags": []
          },
          "execution_count": 10
        }
      ]
    },
    {
      "cell_type": "code",
      "metadata": {
        "id": "jhpEZwCO9myt"
      },
      "source": [
        "# 클래스 내의 메서드 호출하기\n",
        "class Person:\n",
        "    def greeting(self):\n",
        "        print('Hello')\n",
        "    \n",
        "    def hello(self):\n",
        "        self.greeting()"
      ],
      "execution_count": 12,
      "outputs": []
    },
    {
      "cell_type": "code",
      "metadata": {
        "colab": {
          "base_uri": "https://localhost:8080/"
        },
        "id": "4K8WEETU-QQV",
        "outputId": "8b4376ff-d38c-4ca5-a2da-3eb593945b77"
      },
      "source": [
        "james = Person()\n",
        "james.hello()"
      ],
      "execution_count": 19,
      "outputs": [
        {
          "output_type": "stream",
          "text": [
            "Hello\n"
          ],
          "name": "stdout"
        }
      ]
    },
    {
      "cell_type": "code",
      "metadata": {
        "colab": {
          "base_uri": "https://localhost:8080/"
        },
        "id": "wD3lLsN3-cx1",
        "outputId": "d7a8a80c-b1a2-4c1d-a212-414fc7bfe402"
      },
      "source": [
        "isinstance(james, Person)"
      ],
      "execution_count": 14,
      "outputs": [
        {
          "output_type": "execute_result",
          "data": {
            "text/plain": [
              "True"
            ]
          },
          "metadata": {
            "tags": []
          },
          "execution_count": 14
        }
      ]
    },
    {
      "cell_type": "code",
      "metadata": {
        "id": "RCfYzmVh-mTs"
      },
      "source": [
        "def factorial(n):\n",
        "    if not isinstance(n, int) or n < 0 :\n",
        "        return  None\n",
        "    if n == 0:\n",
        "        return 1\n",
        "    return n*factorial(n-1)"
      ],
      "execution_count": 20,
      "outputs": []
    },
    {
      "cell_type": "code",
      "metadata": {
        "id": "oWoSR49K-q_k"
      },
      "source": [
        "factorial(3.14)"
      ],
      "execution_count": 21,
      "outputs": []
    },
    {
      "cell_type": "code",
      "metadata": {
        "colab": {
          "base_uri": "https://localhost:8080/"
        },
        "id": "kvcZyqG8_U0l",
        "outputId": "adeab66d-4bd2-45cd-a362-2385acb16c0a"
      },
      "source": [
        "factorial(6)"
      ],
      "execution_count": 22,
      "outputs": [
        {
          "output_type": "execute_result",
          "data": {
            "text/plain": [
              "720"
            ]
          },
          "metadata": {
            "tags": []
          },
          "execution_count": 22
        }
      ]
    },
    {
      "cell_type": "code",
      "metadata": {
        "colab": {
          "base_uri": "https://localhost:8080/"
        },
        "id": "fkUxOQZm_WHe",
        "outputId": "a658cf8b-8307-4363-9cdb-005f2ad9e339"
      },
      "source": [
        "factorial(5)"
      ],
      "execution_count": 23,
      "outputs": [
        {
          "output_type": "execute_result",
          "data": {
            "text/plain": [
              "120"
            ]
          },
          "metadata": {
            "tags": []
          },
          "execution_count": 23
        }
      ]
    },
    {
      "cell_type": "code",
      "metadata": {
        "colab": {
          "base_uri": "https://localhost:8080/"
        },
        "id": "XEH1M_tl_aP0",
        "outputId": "90f82c27-4d36-419b-d0c6-27f1ab6d76f4"
      },
      "source": [
        "factorial(10)"
      ],
      "execution_count": 24,
      "outputs": [
        {
          "output_type": "execute_result",
          "data": {
            "text/plain": [
              "3628800"
            ]
          },
          "metadata": {
            "tags": []
          },
          "execution_count": 24
        }
      ]
    },
    {
      "cell_type": "markdown",
      "metadata": {
        "id": "JEtifQxA_lAw"
      },
      "source": [
        "## 34.2 속성(Attribute)"
      ]
    },
    {
      "cell_type": "code",
      "metadata": {
        "id": "D1j49_9V_csE"
      },
      "source": [
        "class Person:\n",
        "    def __init__(self):\n",
        "        self.hello = '안녕하세요'             # hello 속성을 갖게 됨\n",
        "    def greeting(self):\n",
        "        print(self.hello)"
      ],
      "execution_count": 25,
      "outputs": []
    },
    {
      "cell_type": "code",
      "metadata": {
        "colab": {
          "base_uri": "https://localhost:8080/"
        },
        "id": "AobtbrXQABt8",
        "outputId": "a4f02ed8-bdb5-451f-88b8-8031162beb42"
      },
      "source": [
        "maria = Person()\n",
        "maria.greeting()"
      ],
      "execution_count": 26,
      "outputs": [
        {
          "output_type": "stream",
          "text": [
            "안녕하세요\n"
          ],
          "name": "stdout"
        }
      ]
    },
    {
      "cell_type": "code",
      "metadata": {
        "colab": {
          "base_uri": "https://localhost:8080/"
        },
        "id": "Zq2UA2sCAFwU",
        "outputId": "5c9208ba-dd0e-467f-a097-0217047580b4"
      },
      "source": [
        "maria.hello = 'How are you?'\n",
        "maria.greeting()"
      ],
      "execution_count": 27,
      "outputs": [
        {
          "output_type": "stream",
          "text": [
            "How are you?\n"
          ],
          "name": "stdout"
        }
      ]
    },
    {
      "cell_type": "code",
      "metadata": {
        "colab": {
          "base_uri": "https://localhost:8080/"
        },
        "id": "xiaLqavtAoD8",
        "outputId": "6051f25c-efaf-4fdc-f1ee-395dd9b5b347"
      },
      "source": [
        "james = Person()\n",
        "james.greeting()"
      ],
      "execution_count": 29,
      "outputs": [
        {
          "output_type": "stream",
          "text": [
            "안녕하세요\n"
          ],
          "name": "stdout"
        }
      ]
    },
    {
      "cell_type": "code",
      "metadata": {
        "id": "dL4KJfnGAuoU"
      },
      "source": [
        "class Person:\n",
        "  def __init__(self,name,age, addr):          \n",
        "      self.hello = '안녕하세요?'\n",
        "      self.name  = name\n",
        "      self.age = age\n",
        "      self.addr = addr\n",
        "\n",
        "  def greeting(self):\n",
        "    print(f'{self.hello} 저는 {self.name}입니다.')\n",
        "\n",
        "  # JAVA의 tosring() method\n",
        "  def __str__(self):\n",
        "      return f' hello:{self.hello}, name:{self.name}, age:{self.age}, addr:{self.addr}'"
      ],
      "execution_count": 41,
      "outputs": []
    },
    {
      "cell_type": "code",
      "metadata": {
        "colab": {
          "base_uri": "https://localhost:8080/"
        },
        "id": "hMpH_1NKC_oT",
        "outputId": "701b035c-42cd-4bd8-9edf-3cb2f261c7c6"
      },
      "source": [
        "maria = Person('마리아', 23, '서울시 강남구 도곡동')\n",
        "maria.greeting()"
      ],
      "execution_count": 43,
      "outputs": [
        {
          "output_type": "stream",
          "text": [
            "안녕하세요? 저는 마리아입니다.\n"
          ],
          "name": "stdout"
        }
      ]
    },
    {
      "cell_type": "code",
      "metadata": {
        "colab": {
          "base_uri": "https://localhost:8080/"
        },
        "id": "EnDBE1UADLED",
        "outputId": "d3e55b08-af90-4bd1-c7be-9fbce8f34453"
      },
      "source": [
        "print(maria)"
      ],
      "execution_count": 44,
      "outputs": [
        {
          "output_type": "stream",
          "text": [
            " hello:안녕하세요?, name:마리아, age:23, addr:서울시 강남구 도곡동\n"
          ],
          "name": "stdout"
        }
      ]
    },
    {
      "cell_type": "markdown",
      "metadata": {
        "id": "fYkiyK5QWZ0N"
      },
      "source": [
        "## 34.3 비공개 속성"
      ]
    },
    {
      "cell_type": "code",
      "metadata": {
        "colab": {
          "base_uri": "https://localhost:8080/"
        },
        "id": "-HYOGDqwUqER",
        "outputId": "e04c154f-7aa4-4d0d-83f4-7eac3a053b4e"
      },
      "source": [
        "maria.age = 30\n",
        "print(maria)"
      ],
      "execution_count": 45,
      "outputs": [
        {
          "output_type": "stream",
          "text": [
            " hello:안녕하세요?, name:마리아, age:30, addr:서울시 강남구 도곡동\n"
          ],
          "name": "stdout"
        }
      ]
    },
    {
      "cell_type": "code",
      "metadata": {
        "id": "Nlt2AU7CWd04"
      },
      "source": [
        "class Person:\n",
        "  def __init__(self,name,age, addr, wallet):          \n",
        "      self.name  = name\n",
        "      self.age = age\n",
        "      self.addr = addr\n",
        "      self.__wallet = wallet   # __wallet 속성은 비공개\n",
        "\n",
        "  def greeting(self):\n",
        "    print(f'안녕하세요? 저는 {self.name}입니다.')\n",
        "\n",
        "  # JAVA의 tosring() method\n",
        "  def __str__(self):\n",
        "      return f'name:{self.name}, age:{self.age}, addr:{self.addr}, wallet:{self.__wallet}'"
      ],
      "execution_count": 50,
      "outputs": []
    },
    {
      "cell_type": "code",
      "metadata": {
        "colab": {
          "base_uri": "https://localhost:8080/"
        },
        "id": "F5zYXw0zWrG3",
        "outputId": "6c42ec2e-9092-4cc2-a6a8-49b076210be2"
      },
      "source": [
        "james = Person('제임스', 27, '서울 강남구 역삼동', 10000)\n",
        "james.greeting()"
      ],
      "execution_count": 51,
      "outputs": [
        {
          "output_type": "stream",
          "text": [
            "안녕하세요? 저는 제임스입니다.\n"
          ],
          "name": "stdout"
        }
      ]
    },
    {
      "cell_type": "code",
      "metadata": {
        "colab": {
          "base_uri": "https://localhost:8080/"
        },
        "id": "jZc10b69W7f_",
        "outputId": "ca6992c9-b03e-4eda-f3de-bc5ac5f4c8ef"
      },
      "source": [
        "print(james)"
      ],
      "execution_count": 52,
      "outputs": [
        {
          "output_type": "stream",
          "text": [
            "name:제임스, age:27, addr:서울 강남구 역삼동, wallet:10000\n"
          ],
          "name": "stdout"
        }
      ]
    },
    {
      "cell_type": "code",
      "metadata": {
        "colab": {
          "base_uri": "https://localhost:8080/"
        },
        "id": "_p5aXjkUXKWP",
        "outputId": "4cb6cadd-70c9-443a-b937-dfda91186044"
      },
      "source": [
        "# __wallet은 비공개 속성이므로 클래스 바깥에서는 변경할 수 없음\n",
        "james.__wallet = 10000000\n",
        "print(james)"
      ],
      "execution_count": 57,
      "outputs": [
        {
          "output_type": "stream",
          "text": [
            "name:제임스, age:27, addr:서울 강남구 역삼동, wallet:10000\n"
          ],
          "name": "stdout"
        }
      ]
    },
    {
      "cell_type": "code",
      "metadata": {
        "id": "RqUncVuqXS3_"
      },
      "source": [
        "## 바꿀수있는 방법\n",
        "class Person:\n",
        "  def __init__(self,name,age, addr, wallet):          \n",
        "      self.name  = name\n",
        "      self.age = age\n",
        "      self.addr = addr\n",
        "      self.__wallet = wallet   # __wallet 속성은 비공개\n",
        "\n",
        "  def greeting(self):\n",
        "    print(f'안녕하세요? 저는 {self.name}입니다.')\n",
        "\n",
        "  def pay(self, amount):\n",
        "      if self.__wallet - amount < 0:\n",
        "        print('지갑에 돈이 부족합니다')\n",
        "        return\n",
        "      self.__wallet -= amount\n",
        "      print(f'지갑에 남은돈은{self.__wallet}입니다.')\n",
        "\n",
        "  # JAVA의 tosring() method\n",
        "  def __str__(self):\n",
        "      return f'name:{self.name}, age:{self.age}, addr:{self.addr}, wallet:{self.__wallet}'"
      ],
      "execution_count": 70,
      "outputs": []
    },
    {
      "cell_type": "code",
      "metadata": {
        "colab": {
          "base_uri": "https://localhost:8080/"
        },
        "id": "obHhKhZXaudr",
        "outputId": "d2cf5aa7-df50-47b3-a20f-c115883b25f3"
      },
      "source": [
        "james = Person('제임스', 27, '서울 강남구 역삼동', 10000)\n",
        "james.greeting()"
      ],
      "execution_count": 78,
      "outputs": [
        {
          "output_type": "stream",
          "text": [
            "안녕하세요? 저는 제임스입니다.\n"
          ],
          "name": "stdout"
        }
      ]
    },
    {
      "cell_type": "code",
      "metadata": {
        "id": "dUqPGJWCYQTl"
      },
      "source": [
        "james.__wallet = 10000000"
      ],
      "execution_count": 80,
      "outputs": []
    },
    {
      "cell_type": "code",
      "metadata": {
        "colab": {
          "base_uri": "https://localhost:8080/"
        },
        "id": "riQPlN86YSVW",
        "outputId": "599f0fb9-81d7-4a91-c50b-ea174947c1c5"
      },
      "source": [
        "james.pay(5000)"
      ],
      "execution_count": 81,
      "outputs": [
        {
          "output_type": "stream",
          "text": [
            "지갑에 남은돈은5000입니다.\n"
          ],
          "name": "stdout"
        }
      ]
    },
    {
      "cell_type": "markdown",
      "metadata": {
        "id": "iUc6g7BldP34"
      },
      "source": [
        "## Account 클래스 만들기\n",
        "### 속성\n",
        "- ano : 문자열 6글자, ex)'123456'\n",
        "- owner : 문자열\n",
        "- balance : 잔액, 비공개속성\n",
        "\n",
        "### Method\n",
        "\n",
        "- 생성자\n",
        "- deposit(amount)\t잔액이 1000만원이상은 입금할수 없음\n",
        "- withdraw(amount)\t잔액이 0원미만이면 출금할 수 없음\n",
        "- 출력 가능하게v"
      ]
    },
    {
      "cell_type": "code",
      "metadata": {
        "id": "uOpQvqauYUau"
      },
      "source": [
        "class Account:\n",
        "  def __init__(self, ano, owner, balance):\n",
        "    self.ano = ano\n",
        "    self.owner = owner\n",
        "    self.__balnce = __balance\n",
        "\n",
        "  def cash(self, amount):\n",
        "    if self.__balance + amount >= 10000000:\n",
        "      print('잔액이 1000만원이상은 입금할수 없음')\n",
        "      return\n",
        "    self.__balance < 0\n",
        "    print('잔액이 0원미만이면 출금할 수 없음')"
      ],
      "execution_count": 85,
      "outputs": []
    },
    {
      "cell_type": "code",
      "metadata": {
        "id": "tOHccPsiZZj8"
      },
      "source": [
        "class Account:\n",
        "  def __init__(self, ano, owner, balance):\n",
        "    self.ano = ano\n",
        "    self.owner = owner\n",
        "    self.__balance = balance\n",
        "\n",
        "  def deposit(self, amount):\n",
        "      if amount + self.__balance >= 10000000:\n",
        "        print('잔액이 1000만원이상은 입금할수 없음')\n",
        "        return\n",
        "      self.__balance += amount\n",
        "\n",
        "  def withdraw(self, amount):\n",
        "      if self.__balance - amount < 0:\n",
        "        print('잔액이 0원미만은 출금할수 없음')\n",
        "        return\n",
        "      self.__balance -= amount\n",
        "\n",
        "  def __str__(self):\n",
        "    return f'계좌번호:{self.ano}, 소유주:{self.owner}, 잔액:{self.__balance:9,d}'"
      ],
      "execution_count": 112,
      "outputs": []
    },
    {
      "cell_type": "code",
      "metadata": {
        "colab": {
          "base_uri": "https://localhost:8080/"
        },
        "id": "DtcgAKTBeCQa",
        "outputId": "224ff3f6-44d6-4879-c4b2-5f53077a9cbb"
      },
      "source": [
        "acc = Account('123456', '제임스', 100000)\n",
        "print(acc)"
      ],
      "execution_count": 106,
      "outputs": [
        {
          "output_type": "stream",
          "text": [
            "계좌번호123456, 소유주제임스, 잔액:  100,000\n"
          ],
          "name": "stdout"
        }
      ]
    },
    {
      "cell_type": "code",
      "metadata": {
        "colab": {
          "base_uri": "https://localhost:8080/"
        },
        "id": "czyO-WmIePZj",
        "outputId": "f7956250-821b-457f-8d29-bbc0e4b4e675"
      },
      "source": [
        "acc.deposit(3000000)\n",
        "print(acc)"
      ],
      "execution_count": 107,
      "outputs": [
        {
          "output_type": "stream",
          "text": [
            "계좌번호123456, 소유주제임스, 잔액:3,100,000\n"
          ],
          "name": "stdout"
        }
      ]
    },
    {
      "cell_type": "code",
      "metadata": {
        "colab": {
          "base_uri": "https://localhost:8080/"
        },
        "id": "u25wVtdneh4L",
        "outputId": "0ce262a1-21ae-4174-fb1e-fe662b1324b7"
      },
      "source": [
        "acc.deposit(7000000)\n",
        "print(acc)"
      ],
      "execution_count": 108,
      "outputs": [
        {
          "output_type": "stream",
          "text": [
            "잔액이 1000만원이상은 입금할수 없음\n",
            "계좌번호123456, 소유주제임스, 잔액:3,100,000\n"
          ],
          "name": "stdout"
        }
      ]
    },
    {
      "cell_type": "code",
      "metadata": {
        "colab": {
          "base_uri": "https://localhost:8080/"
        },
        "id": "I_KlBGsielsy",
        "outputId": "011708c6-b5f2-48e9-9c04-5dfcf83daccf"
      },
      "source": [
        "acc.withdraw(1000000)\n",
        "print(acc)"
      ],
      "execution_count": 109,
      "outputs": [
        {
          "output_type": "stream",
          "text": [
            "계좌번호123456, 소유주제임스, 잔액:2,100,000\n"
          ],
          "name": "stdout"
        }
      ]
    },
    {
      "cell_type": "code",
      "metadata": {
        "colab": {
          "base_uri": "https://localhost:8080/"
        },
        "id": "qY0coEC2ewGK",
        "outputId": "90cbf011-7075-46dc-852d-4b5b937ec277"
      },
      "source": [
        "acc.withdraw(3000000)\n",
        "print(acc)"
      ],
      "execution_count": 110,
      "outputs": [
        {
          "output_type": "stream",
          "text": [
            "잔액이 0원미만은 출금할수 없음\n",
            "계좌번호123456, 소유주제임스, 잔액:2,100,000\n"
          ],
          "name": "stdout"
        }
      ]
    },
    {
      "cell_type": "code",
      "metadata": {
        "colab": {
          "base_uri": "https://localhost:8080/"
        },
        "id": "OcpG5Dygey27",
        "outputId": "e1bbdff3-e722-4c6d-c292-c1ea6de88cb2"
      },
      "source": [
        "acc2 = Account('987432','마리아', 3000000)\n",
        "print(acc2)"
      ],
      "execution_count": 113,
      "outputs": [
        {
          "output_type": "stream",
          "text": [
            "계좌번호:987432, 소유주:마리아, 잔액:3,000,000\n"
          ],
          "name": "stdout"
        }
      ]
    },
    {
      "cell_type": "code",
      "metadata": {
        "id": "LZn6scdmfCJT"
      },
      "source": [
        "acc_list = [acc, acc2]"
      ],
      "execution_count": 114,
      "outputs": []
    },
    {
      "cell_type": "code",
      "metadata": {
        "colab": {
          "base_uri": "https://localhost:8080/"
        },
        "id": "7LibMdzlfSKi",
        "outputId": "fe8503d5-c139-412f-ecc2-ed54c7cdd8d8"
      },
      "source": [
        "for account in acc_list:\n",
        "  print(account)"
      ],
      "execution_count": 118,
      "outputs": [
        {
          "output_type": "stream",
          "text": [
            "계좌번호123456, 소유주제임스, 잔액:2,100,000\n",
            "계좌번호:987432, 소유주:마리아, 잔액:3,000,000\n"
          ],
          "name": "stdout"
        }
      ]
    },
    {
      "cell_type": "markdown",
      "metadata": {
        "id": "uts9Qx91fvvO"
      },
      "source": [
        "### 1.계좌생성, 2:계좌목록, 3:입금, 4:출금, 5: 종료"
      ]
    },
    {
      "cell_type": "code",
      "metadata": {
        "id": "K-9qAVdkfa2i"
      },
      "source": [
        "while True:\n",
        "    menu = int(input('1.계좌생성, 2:계좌목록, 3:입금, 4:출금, 5: 종료'))"
      ],
      "execution_count": null,
      "outputs": []
    }
  ]
}